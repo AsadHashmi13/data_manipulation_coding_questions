{
 "cells": [
  {
   "cell_type": "markdown",
   "id": "d33df2ec",
   "metadata": {},
   "source": [
    "## Facebook_Friendship_Requests"
   ]
  },
  {
   "cell_type": "markdown",
   "id": "b123b1d1",
   "metadata": {},
   "source": [
    "Find the total number of approved friendship requests in January and February.\n",
    "\n",
    "| Column Name      | Type          | Description                                  |\n",
    "| :--------------- | :------------ | :------------------------------------------- |\n",
    "| `sender`         | `int64`       | User ID of the person who sent the request   |\n",
    "| `receiver`       | `int64`       | User ID of the person who received the request |\n",
    "| `date_sent`      | `datetime64[ns]`| The date and time the friendship request was sent |\n",
    "| `date_approved`  | `datetime64[ns]`| The date and time the friendship request was approved (NULL if not yet approved) |"
   ]
  },
  {
   "cell_type": "markdown",
   "id": "69119368",
   "metadata": {},
   "source": [
    "##### Used Gemini/ChatGPT to create dataset"
   ]
  },
  {
   "cell_type": "code",
   "execution_count": 18,
   "id": "a38a114a",
   "metadata": {},
   "outputs": [],
   "source": [
    "import pandas as pd\n",
    "import numpy as np\n",
    "from datetime import datetime, timedelta\n",
    "import random\n",
    "\n",
    "# Parameters\n",
    "num_users = 50\n",
    "num_requests = 200\n",
    "\n",
    "# Generate a list of user IDs\n",
    "user_ids = list(range(1, num_users + 1))\n",
    "\n",
    "# Generate friend request data\n",
    "requests = []\n",
    "for _ in range(num_requests):\n",
    "    sender = receiver = None\n",
    "    while sender == receiver:\n",
    "        sender = random.choice(user_ids)\n",
    "        receiver = random.choice(user_ids)\n",
    "\n",
    "    date_sent = datetime.now() - timedelta(days=random.randint(0, 365), hours=random.randint(0, 23))\n",
    "    \n",
    "    # 70% chance it's approved\n",
    "    if random.random() < 0.7:\n",
    "        # Approved after 0-5 days\n",
    "        approval_delay = timedelta(days=random.randint(0, 5), hours=random.randint(0, 23))\n",
    "        date_approved = date_sent + approval_delay\n",
    "    else:\n",
    "        date_approved = pd.NaT  # Not approved yet\n",
    "\n",
    "    requests.append({\n",
    "        'sender': sender,\n",
    "        'receiver': receiver,\n",
    "        'date_sent': date_sent,\n",
    "        'date_approved': date_approved\n",
    "    })\n",
    "\n",
    "# Convert to DataFrame\n",
    "facebook_friendship_requests = pd.DataFrame(requests)"
   ]
  },
  {
   "cell_type": "markdown",
   "id": "310c711c",
   "metadata": {},
   "source": [
    "##### Solution"
   ]
  },
  {
   "cell_type": "code",
   "execution_count": 20,
   "id": "d4e6a7ef",
   "metadata": {},
   "outputs": [
    {
     "name": "stdout",
     "output_type": "stream",
     "text": [
      "23\n"
     ]
    }
   ],
   "source": [
    "# Extract month of approval from date_approved column\n",
    "facebook_friendship_requests['month'] = facebook_friendship_requests['date_approved'].dt.month\n",
    "\n",
    "# Drop unnecessary columns\n",
    "facebook_friendship_requests.drop(columns=['date_sent','date_approved'], inplace=True)\n",
    "\n",
    "# Filter for requests approved in the first two months of the year\n",
    "facebook_friendship_requests = facebook_friendship_requests[facebook_friendship_requests['month'] <= 2]\n",
    "\n",
    "## Print the number of requests approved in the first two months\n",
    "print(len(facebook_friendship_requests))"
   ]
  },
  {
   "cell_type": "code",
   "execution_count": null,
   "id": "d9e21a3c",
   "metadata": {},
   "outputs": [
    {
     "name": "stdout",
     "output_type": "stream",
     "text": [
      "23\n"
     ]
    }
   ],
   "source": [
    "## Single line to print the number of requests approved in the first two months\n",
    "## This line is equivalent to the previous one but more concise\n",
    "\n",
    "print(len(facebook_friendship_requests[facebook_friendship_requests['date_approved'].dt.month <= 2]))"
   ]
  }
 ],
 "metadata": {
  "kernelspec": {
   "display_name": "base",
   "language": "python",
   "name": "python3"
  },
  "language_info": {
   "codemirror_mode": {
    "name": "ipython",
    "version": 3
   },
   "file_extension": ".py",
   "mimetype": "text/x-python",
   "name": "python",
   "nbconvert_exporter": "python",
   "pygments_lexer": "ipython3",
   "version": "3.9.19"
  }
 },
 "nbformat": 4,
 "nbformat_minor": 5
}
