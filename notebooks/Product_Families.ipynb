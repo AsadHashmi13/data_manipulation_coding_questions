{
 "cells": [
  {
   "cell_type": "markdown",
   "id": "d33df2ec",
   "metadata": {},
   "source": [
    "## Product Families"
   ]
  },
  {
   "cell_type": "markdown",
   "id": "b123b1d1",
   "metadata": {},
   "source": [
    "The CMO is interested in understanding how the sales of different product families are affected by promotional campaigns. To do so, for each product family, show the total number of units sold, as well as the percentage of units sold that had a valid promotion among total units sold. If there are NULLS in the result, replace them with zeroes. Promotion is valid if it's not empty and it's contained inside promotions table.\n",
    "\n",
    "## `facebook_products` Table Schema\n",
    "\n",
    "This table contains information about various products.\n",
    "\n",
    "| Column Name      | Type     | Description                               |\n",
    "| :--------------- | :------- | :---------------------------------------- |\n",
    "| `product_id`     | `int64`  | Unique identifier for the product         |\n",
    "| `product_class`  | `object` | Classification of the product (e.g., 'Electronics', 'Apparel') |\n",
    "| `brand_name`     | `object` | Brand name of the product                 |\n",
    "| `is_low_fat`     | `object` | Indicates if the product is low-fat ('Y'/'N') |\n",
    "| `is_recyclable`  | `object` | Indicates if the product is recyclable ('Y'/'N') |\n",
    "| `product_category`| `int64`  | Category ID of the product                |\n",
    "| `product_family` | `object` | Family of the product (e.g., 'Smartphones', 'Laptops') |\n",
    "\n",
    "---\n",
    "\n",
    "## `facebook_sales_promotions` Table Schema\n",
    "\n",
    "This table holds details about different sales promotions.\n",
    "\n",
    "| Column Name      | Type          | Description                                  |\n",
    "| :--------------- | :------------ | :------------------------------------------- |\n",
    "| `promotion_id`   | `int64`       | Unique identifier for the promotion          |\n",
    "| `start_date`     | `datetime64[ns]`| The start date and time of the promotion     |\n",
    "| `end_date`       | `datetime64[ns]`| The end date and time of the promotion       |\n",
    "| `media_type`     | `object`      | The type of media used for the promotion (e.g., 'TV', 'Online', 'Print') |\n",
    "| `cost`           | `int64`       | The cost of the promotion                    |\n",
    "\n",
    "---\n",
    "\n",
    "## `facebook_sales` Table Schema\n",
    "\n",
    "This table records individual sales transactions.\n",
    "\n",
    "| Column Name      | Type          | Description                                  |\n",
    "| :--------------- | :------------ | :------------------------------------------- |\n",
    "| `product_id`     | `int64`       | Foreign key referencing `facebook_products`  |\n",
    "| `promotion_id`   | `int64`       | Foreign key referencing `facebook_sales_promotions` |\n",
    "| `cost_in_dollars`| `int64`       | The cost of the item to the customer in dollars |\n",
    "| `customer_id`    | `int64`       | Unique identifier for the customer           |\n",
    "| `date`           | `datetime64[ns]`| The date and time of the sale                |\n",
    "| `units_sold`     | `int64`       | The number of units sold in this transaction |"
   ]
  },
  {
   "cell_type": "markdown",
   "id": "69119368",
   "metadata": {},
   "source": [
    "Used Gemini/ChatGPT to create dataset"
   ]
  },
  {
   "cell_type": "code",
   "execution_count": null,
   "id": "a38a114a",
   "metadata": {},
   "outputs": [],
   "source": [
    "import pandas as pd\n",
    "import numpy as np\n",
    "from datetime import datetime, timedelta\n",
    "import random\n",
    "\n",
    "# Parameters\n",
    "num_channels = 10\n",
    "num_posts = 100\n",
    "\n",
    "# Generate channels dataframe\n",
    "channel_ids = np.arange(1, num_channels + 1)\n",
    "channel_types = [f\"Channel_{i}\" for i in channel_ids]\n",
    "channel_names = np.random.choice(['News', 'Entertainment', 'Sports', 'Education'], size=num_channels)\n",
    "\n",
    "channels = pd.DataFrame({\n",
    "    'channel_id': channel_ids,\n",
    "    'channel_name': channel_names,\n",
    "    'channel_type': channel_types\n",
    "})\n",
    "\n",
    "# Generate posts dataframe\n",
    "post_ids = np.arange(1, num_posts + 1)\n",
    "post_channel_ids = np.random.choice(channel_ids, size=num_posts)\n",
    "created_ats = [datetime.now() - timedelta(days=random.randint(0, 365)) for _ in range(num_posts)]\n",
    "likes = np.random.randint(0, 1000, size=num_posts)\n",
    "shares = np.random.randint(0, 500, size=num_posts)\n",
    "comments = np.random.randint(0, 300, size=num_posts)\n",
    "\n",
    "posts = pd.DataFrame({\n",
    "    'post_id': post_ids,\n",
    "    'channel_id': post_channel_ids,\n",
    "    'created_at': created_ats,\n",
    "    'likes': likes,\n",
    "    'shares': shares,\n",
    "    'comments': comments\n",
    "})\n",
    "\n"
   ]
  },
  {
   "cell_type": "markdown",
   "id": "310c711c",
   "metadata": {},
   "source": [
    "### Solution"
   ]
  },
  {
   "cell_type": "code",
   "execution_count": null,
   "id": "d4e6a7ef",
   "metadata": {},
   "outputs": [],
   "source": [
    "posts = posts[['post_id','channel_id','created_at','likes']]\n",
    "channels = channels[['channel_id','channel_name']]\n",
    "\n",
    "posts = pd.merge(posts,channels,on='channel_id',how='left')\n",
    "\n",
    "posts.drop(columns={'channel_id'},inplace=True)\n",
    "\n",
    "posts['rank'] = posts.groupby('channel_name')['likes'].rank(ascending=False, method='min')\n",
    "posts = posts.sort_values(by=['channel_name','likes'],ascending=False)\n",
    "\n",
    "posts = posts[posts['rank'] <= 3]\n",
    "\n",
    "posts"
   ]
  }
 ],
 "metadata": {
  "language_info": {
   "name": "python"
  }
 },
 "nbformat": 4,
 "nbformat_minor": 5
}
